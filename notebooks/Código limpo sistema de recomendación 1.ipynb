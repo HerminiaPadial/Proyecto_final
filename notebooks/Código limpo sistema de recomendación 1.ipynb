{
 "cells": [
  {
   "cell_type": "markdown",
   "id": "0492f6c7",
   "metadata": {},
   "source": [
    "## Imports"
   ]
  },
  {
   "cell_type": "code",
   "execution_count": 34,
   "id": "963abd56",
   "metadata": {},
   "outputs": [],
   "source": [
    "import json\n",
    "import pandas as pd\n",
    "import numpy as np"
   ]
  },
  {
   "cell_type": "markdown",
   "id": "d37d0507",
   "metadata": {},
   "source": [
    "## Lectura input"
   ]
  },
  {
   "cell_type": "code",
   "execution_count": 46,
   "id": "f26c1160",
   "metadata": {},
   "outputs": [],
   "source": [
    "path = '/Users/herminiapadialromera/ironhackb/Proyecto_final/notebooks/input_.json'\n",
    "pd.set_option('display.max_colwidth', None)\n",
    "df_input_json = pd.read_json(path)\n",
    "columnas_explode = ['Etapa', 'Formato', 'Temática', 'Objetivos'] \n",
    "df_input_json_merge = df_input_json.explode(['Etapa']).explode(['Formato']).explode(['Objetivos']).explode(['Temática'])\n",
    "#df_input_json_merge"
   ]
  },
  {
   "cell_type": "markdown",
   "id": "de9f664c",
   "metadata": {},
   "source": [
    "## Lectura del dataset de cursos "
   ]
  },
  {
   "cell_type": "code",
   "execution_count": 47,
   "id": "8ea678a4",
   "metadata": {},
   "outputs": [],
   "source": [
    "data_course_df = pd.read_csv('/Users/herminiapadialromera/ironhackb/Proyecto_final/data/Datos_ampliados.csv', sep=\";\", encoding='utf8')\n",
    "data_course_df = pd.DataFrame(data_course_df)\n",
    "data_course_df['Tipo de contenido'].fillna('No innovador', inplace= True)\n",
    "columnas_explode_curso = ['Etapa', 'Formato', 'Temática', 'Objetivos'] \n",
    "data_course_df = data_course_df.explode(['Etapa']).explode(['Formato']).explode(['Temática'])\n",
    "#data_course_df\n"
   ]
  },
  {
   "cell_type": "markdown",
   "id": "edd2aee3",
   "metadata": {},
   "source": [
    "## Merge de los dos dataframe"
   ]
  },
  {
   "cell_type": "code",
   "execution_count": 48,
   "id": "f2c18137",
   "metadata": {},
   "outputs": [],
   "source": [
    "df_merge = pd.merge(df_input_json_merge, data_course_df, on=['Provincia', 'Etapa', 'Formato', 'Temática'])\n",
    "df_merge = df_merge.iloc[:,1:]\n",
    "#df_merge"
   ]
  },
  {
   "cell_type": "markdown",
   "id": "37eb152c",
   "metadata": {},
   "source": [
    "## FILTROS\n"
   ]
  },
  {
   "cell_type": "markdown",
   "id": "63a48889",
   "metadata": {},
   "source": [
    "   ## Filtro temática, etapa, formato\n"
   ]
  },
  {
   "cell_type": "code",
   "execution_count": 44,
   "id": "dcde697f",
   "metadata": {},
   "outputs": [],
   "source": [
    "def filtro_tematica_etapa_formato (df, sesiones):\n",
    "    tematica_unique_list = df_merge['Temática'].unique()\n",
    "    formato_unique_list = df_merge['Formato'].unique()\n",
    "    etapa_unique_list = df_merge['Etapa'].unique()\n",
    "\n",
    "    filtro_tematica_df = pd.DataFrame()\n",
    "    for tematica in tematica_unique_list:\n",
    "        df_tematica_temp = df_merge[(df_merge['Nº Sesiones'] <= int(f\"{sesiones}\")) & (df_merge['Temática'] == tematica)].iloc[:1,:]\n",
    "        filtro_tematica_df = pd.concat([filtro_tematica_df, df_tematica_temp])\n",
    "        #print(\"filtro_tematica_df ---> \", tematica)\n",
    "        #display(filtro_tematica_df)\n",
    "\n",
    "    filtro_formato_df = pd.DataFrame()\n",
    "    for formato in formato_unique_list:\n",
    "        df_formato = df_merge[(df_merge['Nº Sesiones'] <= int(f\"{sesiones}\")) & (df_merge['Formato'] == formato)].iloc[:1,:]\n",
    "        filtro_formato_df = pd.concat([filtro_formato_df, df_formato])\n",
    "        #print(\"filtro_formato_df ---> \", formato)\n",
    "        #display(filtro_formato_df)\n",
    "\n",
    "    filtro_etapa_df = pd.DataFrame()\n",
    "    for etapa in etapa_unique_list:\n",
    "        df_etapa = df_merge[(df_merge['Nº Sesiones'] <= int(f\"{sesiones}\")) & (df_merge['Etapa'] == etapa)].iloc[:1,:]\n",
    "        filtro_etapa_df = pd.concat([filtro_etapa_df, df_etapa])\n",
    "        #print(\"filtro_etapa_df ---> \", etapa)\n",
    "        #display(filtro_etapa_df)\n",
    "\n",
    "    recomendaciones_df = pd.concat([filtro_tematica_df,filtro_formato_df,filtro_etapa_df]).drop_duplicates()\n",
    "    return recomendaciones_df"
   ]
  },
  {
   "cell_type": "code",
   "execution_count": 49,
   "id": "86385a6d",
   "metadata": {},
   "outputs": [],
   "source": [
    "tematica_formato_etapa_df = filtro_tematica_etapa_formato (df_merge, 5)\n",
    "#tematica_formato_etapa_df"
   ]
  },
  {
   "cell_type": "markdown",
   "id": "93bbc002",
   "metadata": {},
   "source": [
    "   ## Filtro precio"
   ]
  },
  {
   "cell_type": "code",
   "execution_count": 42,
   "id": "f63ca020",
   "metadata": {},
   "outputs": [],
   "source": [
    "def filtro_precio (df):\n",
    "    if (tematica_formato_etapa_df['Precios por taller'] == 'Menos de 100').any():\n",
    "        precio_df = tematica_formato_etapa_df[(tematica_formato_etapa_df['Precio por taller'] < 100)]\n",
    "        print(\"menos de 100 ---> existe\")\n",
    "\n",
    "    elif (tematica_formato_etapa_df['Precios por taller'] == 'Entre 100 y 300').any():\n",
    "        precio_df = tematica_formato_etapa_df[(tematica_formato_etapa_df['Precio por taller'] >= 100) & (tematica_formato_etapa_df['Precio por taller'] <= 300)]\n",
    "        print(\"entre 100 y 300 ---> existe\")\n",
    "\n",
    "    else:\n",
    "        precio_df = tematica_formato_etapa_df[(tematica_formato_etapa_df['Precio por taller'] > 300)]\n",
    "        print(\"más de 300 ---> existe\")\n",
    "    \n",
    "    return precio_df"
   ]
  },
  {
   "cell_type": "code",
   "execution_count": 50,
   "id": "57a34f51",
   "metadata": {},
   "outputs": [
    {
     "name": "stdout",
     "output_type": "stream",
     "text": [
      "entre 100 y 300 ---> existe\n"
     ]
    }
   ],
   "source": [
    "filtro_precio_df = filtro_precio (tematica_formato_etapa_df)\n",
    "#filtro_precio_df"
   ]
  },
  {
   "cell_type": "code",
   "execution_count": null,
   "id": "4af83063",
   "metadata": {},
   "outputs": [],
   "source": []
  }
 ],
 "metadata": {
  "kernelspec": {
   "display_name": "Python 3 (ipykernel)",
   "language": "python",
   "name": "python3"
  },
  "language_info": {
   "codemirror_mode": {
    "name": "ipython",
    "version": 3
   },
   "file_extension": ".py",
   "mimetype": "text/x-python",
   "name": "python",
   "nbconvert_exporter": "python",
   "pygments_lexer": "ipython3",
   "version": "3.9.16"
  }
 },
 "nbformat": 4,
 "nbformat_minor": 5
}
