{
 "cells": [
  {
   "cell_type": "code",
   "execution_count": null,
   "id": "7ff802e5",
   "metadata": {},
   "outputs": [],
   "source": [
    "import json\n",
    "import pandas as pd\n",
    "\n",
    "path = '/Users/herminiapadialromera/ironhackb/Proyecto_final/notebooks/input_.json'\n",
    "pd.set_option('display.max_colwidth', None)\n",
    "df_input_json = pd.read_json('/Users/herminiapadialromera/ironhackb/Proyecto_final/notebooks/input_.json')\n",
    "with open(path,'r') as f:\n",
    "    df_data_course= json.loads(f.read())\n",
    "columnas_explode = ['Etapa', 'Formato', 'Temática', 'Objetivos'] #columnas implicadas en el explode\n",
    "df_input_json_merge = df_input_json.apply(lambda x: x.explode() if x.name in columnas_explode else x).reset_index(drop=True)\n",
    "df_input_json_merge\n",
    "\n",
    "data_course_df = pd.read_csv('/Users/herminiapadialromera/ironhackb/Proyecto_final/data/datos.csv', sep=\";\", encoding='utf8')\n",
    "data_course_df = pd.DataFrame(data_course_df)\n",
    "data_course_df['Tipo de contenido / aptitudes'].fillna('No innovador', inplace= True)\n",
    "data_course_df\n",
    "\n",
    "df_merge_all_left= df_input_json_merge.merge(data_course_df,\\\n",
    "                                        left_on=['Provincia', 'Etapa', 'Formato', 'Temática'],\\\n",
    "                                        right_on=['Provincia', 'Etapa', 'Formato', 'Temática'], how='left')\n",
    "\n",
    "df_merge_all_left.loc[:, ['Título', 'Precios por taller', 'Tipo de contenido / aptitudes', 'Nº Sesiones']]\\\n",
    "= data_course_df[['Título', 'Precios por taller', 'Tipo de contenido / aptitudes', 'Nº Sesiones']]\n",
    "\n",
    "df_merge_all_left\n",
    "\n"
   ]
  }
 ],
 "metadata": {
  "kernelspec": {
   "display_name": "Python 3 (ipykernel)",
   "language": "python",
   "name": "python3"
  },
  "language_info": {
   "codemirror_mode": {
    "name": "ipython",
    "version": 3
   },
   "file_extension": ".py",
   "mimetype": "text/x-python",
   "name": "python",
   "nbconvert_exporter": "python",
   "pygments_lexer": "ipython3",
   "version": "3.9.16"
  }
 },
 "nbformat": 4,
 "nbformat_minor": 5
}
