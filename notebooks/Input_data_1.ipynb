{
 "cells": [
  {
   "cell_type": "code",
   "execution_count": 3,
   "id": "e6ecf971",
   "metadata": {},
   "outputs": [],
   "source": [
    "import json"
   ]
  },
  {
   "cell_type": "markdown",
   "id": "0e7c1794",
   "metadata": {},
   "source": [
    "## Creación de un input de prueba"
   ]
  },
  {
   "cell_type": "code",
   "execution_count": 35,
   "id": "6081996c",
   "metadata": {},
   "outputs": [],
   "source": [
    "input_ = {}\n",
    "\n",
    "input_ = []\n",
    "\n",
    "input_.append({\n",
    "    'city': 'Madrid',\n",
    "    'name_center': 'Greenwich',\n",
    "    'religious': 'No',\n",
    "    'etapas': ['Infantil', 'Primaria'],\n",
    "    'tematicas': 'Estudio & Pedagogía',\n",
    "    'objetivos': 'Ofrecer formación variada',\n",
    "    'formato':'Online',\n",
    "    'presupuesto':'Menos de 100'})\n",
    "\n"
   ]
  },
  {
   "cell_type": "code",
   "execution_count": 37,
   "id": "085a67b6",
   "metadata": {},
   "outputs": [],
   "source": [
    "with open('input_.json', 'w') as json_file:\n",
    "    json.dump(input_, json_file)"
   ]
  },
  {
   "cell_type": "code",
   "execution_count": 38,
   "id": "9278b7b3",
   "metadata": {},
   "outputs": [
    {
     "data": {
      "text/plain": [
       "list"
      ]
     },
     "execution_count": 38,
     "metadata": {},
     "output_type": "execute_result"
    }
   ],
   "source": [
    "type(input_)"
   ]
  },
  {
   "cell_type": "markdown",
   "id": "174af4f2",
   "metadata": {},
   "source": [
    "## Intento no válido\n",
    "input_ = {}\n",
    "\n",
    "input_ ['queries'] = []\n",
    "\n",
    "input_ ['queries'].append({\n",
    "    'city': 'Madrid',\n",
    "    'name_center': 'Greenwich',\n",
    "    'religious': 'No',\n",
    "    'etapas': ['Infantil, Primaria'],\n",
    "    'tematicas': 'Estudio & Pedagogía',\n",
    "    'objetivos': 'Ofrecer formación variada',\n",
    "    'formato':'Online',\n",
    "    'presupuesto':'Menos de 100'})\n",
    "with open('input_.json', 'w') as json_file:\n",
    "json.dump(input_, json_file)"
   ]
  },
  {
   "cell_type": "code",
   "execution_count": null,
   "id": "3a803954",
   "metadata": {},
   "outputs": [],
   "source": []
  }
 ],
 "metadata": {
  "kernelspec": {
   "display_name": "Python [conda env:m3_env]",
   "language": "python",
   "name": "conda-env-m3_env-py"
  },
  "language_info": {
   "codemirror_mode": {
    "name": "ipython",
    "version": 3
   },
   "file_extension": ".py",
   "mimetype": "text/x-python",
   "name": "python",
   "nbconvert_exporter": "python",
   "pygments_lexer": "ipython3",
   "version": "3.9.16"
  }
 },
 "nbformat": 4,
 "nbformat_minor": 5
}
