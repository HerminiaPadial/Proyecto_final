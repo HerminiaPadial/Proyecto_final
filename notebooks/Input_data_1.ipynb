{
 "cells": [
  {
   "cell_type": "code",
   "execution_count": 1,
   "id": "e6ecf971",
   "metadata": {},
   "outputs": [],
   "source": [
    "import json"
   ]
  },
  {
   "cell_type": "code",
   "execution_count": 2,
   "id": "ea565687",
   "metadata": {},
   "outputs": [],
   "source": [
    "input = {}\n",
    "\n",
    "input ['queries'] = []\n",
    "\n",
    "input ['queries'].append({\n",
    "    'city': 'Madrid',\n",
    "    'name_center': 'Greenwich',\n",
    "    'religious': 'No',\n",
    "    'etapas': 'Todas',\n",
    "    'tematicas': 'Estudio & Pedagogía',\n",
    "    'objetivos': 'Ofrecer formación variada',\n",
    "    'formato':'Online',\n",
    "    'presupuesto':'Menos de 100'})"
   ]
  },
  {
   "cell_type": "code",
   "execution_count": 3,
   "id": "7538b746",
   "metadata": {},
   "outputs": [],
   "source": [
    "with open('input.json', 'w') as json_file:\n",
    "    json.dump(input, json_file)"
   ]
  },
  {
   "cell_type": "code",
   "execution_count": null,
   "id": "b9847eb3",
   "metadata": {},
   "outputs": [],
   "source": []
  }
 ],
 "metadata": {
  "kernelspec": {
   "display_name": "Python [conda env:m3_env]",
   "language": "python",
   "name": "conda-env-m3_env-py"
  },
  "language_info": {
   "codemirror_mode": {
    "name": "ipython",
    "version": 3
   },
   "file_extension": ".py",
   "mimetype": "text/x-python",
   "name": "python",
   "nbconvert_exporter": "python",
   "pygments_lexer": "ipython3",
   "version": "3.9.16"
  }
 },
 "nbformat": 4,
 "nbformat_minor": 5
}
