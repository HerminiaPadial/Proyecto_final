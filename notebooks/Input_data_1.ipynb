{
 "cells": [
  {
   "cell_type": "code",
   "execution_count": null,
   "id": "e6ecf971",
   "metadata": {},
   "outputs": [],
   "source": [
    "import json"
   ]
  },
  {
   "cell_type": "code",
   "execution_count": null,
   "id": "ea565687",
   "metadata": {},
   "outputs": [],
   "source": [
    "input = {}\n",
    "\n",
    "input ['queries'] = []\n",
    "\n",
    "input ['queries'].append({\n",
    "    'city': 'Madrid',\n",
    "    'name_center': 'Greenwich',\n",
    "    'religious': 'No',\n",
    "    'etapas': 'Todas',\n",
    "    'tematicas': '',\n",
    "    'objetivos': '',\n",
    "    'formato':'Online',\n",
    "    'presupuesto':'Menos de 100'})"
   ]
  }
 ],
 "metadata": {
  "kernelspec": {
   "display_name": "Python [conda env:m3_env]",
   "language": "python",
   "name": "conda-env-m3_env-py"
  },
  "language_info": {
   "codemirror_mode": {
    "name": "ipython",
    "version": 3
   },
   "file_extension": ".py",
   "mimetype": "text/x-python",
   "name": "python",
   "nbconvert_exporter": "python",
   "pygments_lexer": "ipython3",
   "version": "3.9.16"
  }
 },
 "nbformat": 4,
 "nbformat_minor": 5
}
