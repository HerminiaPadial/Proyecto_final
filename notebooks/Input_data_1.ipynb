{
 "cells": [
  {
   "cell_type": "code",
   "execution_count": 61,
   "id": "e6ecf971",
   "metadata": {},
   "outputs": [],
   "source": [
    "import json"
   ]
  },
  {
   "cell_type": "markdown",
   "id": "0e7c1794",
   "metadata": {},
   "source": [
    "## Creación de un input de prueba"
   ]
  },
  {
   "cell_type": "code",
   "execution_count": 57,
   "id": "6081996c",
   "metadata": {},
   "outputs": [],
   "source": [
    "#Input para todo\n",
    "''''input_ = {}\n",
    "\n",
    "input_ = []\n",
    "\n",
    "input_.append({\n",
    "    'Provincia': 'Barcelona',\n",
    "    'Name_center': 'Greenwich',\n",
    "    'Religious': 'No',\n",
    "    'Etapa': ['Secundaria', 'Bachillerato'],\n",
    "    'Temática': 'Estudio & Pedagogía',\n",
    "    'Objetivos': 'Ofrecer formación variada',\n",
    "    'Formato':'Presencial',\n",
    "    'Precios por taller':'Entre 100 y 300'})'''\n",
    "\n"
   ]
  },
  {
   "cell_type": "code",
   "execution_count": 58,
   "id": "11f97a42",
   "metadata": {},
   "outputs": [
    {
     "ename": "SyntaxError",
     "evalue": "EOF while scanning triple-quoted string literal (2328036170.py, line 15)",
     "output_type": "error",
     "traceback": [
      "\u001b[0;36m  Cell \u001b[0;32mIn[58], line 15\u001b[0;36m\u001b[0m\n\u001b[0;31m    'presupuesto':'Entre 100 y 300'})''''''\u001b[0m\n\u001b[0m                                           \n^\u001b[0m\n\u001b[0;31mSyntaxError\u001b[0m\u001b[0;31m:\u001b[0m EOF while scanning triple-quoted string literal\n"
     ]
    }
   ],
   "source": [
    "#Input para probar ciudad\n",
    "\n",
    "''''input_ = {}\n",
    "\n",
    "input_ = []\n",
    "\n",
    "input_.append({\n",
    "    'city': 'Barcelona',\n",
    "    'name_center': 'Greenwich',\n",
    "    'religious': 'No',\n",
    "    'etapas': 'Todas',\n",
    "    'tematicas': 'Estudio & Pedagogía',\n",
    "    'objetivos': 'Ofrecer formación variada',\n",
    "    'formato':'Online',\n",
    "    'presupuesto':'Entre 100 y 300'})''''''\n"
   ]
  },
  {
   "cell_type": "code",
   "execution_count": 65,
   "id": "dee45b8e",
   "metadata": {},
   "outputs": [],
   "source": [
    "#Input para probar formato\n",
    "\n",
    "input_ = {}\n",
    "\n",
    "input_ = []\n",
    "\n",
    "input_.append({\n",
    "    'Provincia': 'Madrid',\n",
    "    'Name_center': 'Greenwich',\n",
    "    'Religious': 'No',\n",
    "    'Etapa': ['Todas'],\n",
    "    'Temática': 'Estudio & Pedagogía',\n",
    "    'Objetivos': 'Ofrecer formación variada',\n",
    "    'Formato':['Presencial', 'Online'],\n",
    "    'Precios por taller':'Entre 100 y 300'})\n",
    "#dEBE DEVOLVER:Familias Inteligentes\n"
   ]
  },
  {
   "cell_type": "code",
   "execution_count": 66,
   "id": "085a67b6",
   "metadata": {},
   "outputs": [],
   "source": [
    "with open('input_.json', 'w') as json_file:\n",
    "    json.dump(input_, json_file)"
   ]
  },
  {
   "cell_type": "code",
   "execution_count": 67,
   "id": "9278b7b3",
   "metadata": {},
   "outputs": [
    {
     "data": {
      "text/plain": [
       "list"
      ]
     },
     "execution_count": 67,
     "metadata": {},
     "output_type": "execute_result"
    }
   ],
   "source": [
    "type(input_)"
   ]
  },
  {
   "cell_type": "markdown",
   "id": "174af4f2",
   "metadata": {},
   "source": [
    "## Intento no válido\n",
    "input_ = {}\n",
    "\n",
    "input_ ['queries'] = []\n",
    "\n",
    "input_ ['queries'].append({\n",
    "    'city': 'Madrid',\n",
    "    'name_center': 'Greenwich',\n",
    "    'religious': 'No',\n",
    "    'etapas': ['Infantil, Primaria'],\n",
    "    'tematicas': 'Estudio & Pedagogía',\n",
    "    'objetivos': 'Ofrecer formación variada',\n",
    "    'formato':'Online',\n",
    "    'presupuesto':'Menos de 100'})\n",
    "with open('input_.json', 'w') as json_file:\n",
    "json.dump(input_, json_file)"
   ]
  },
  {
   "cell_type": "code",
   "execution_count": null,
   "id": "3a803954",
   "metadata": {},
   "outputs": [],
   "source": []
  }
 ],
 "metadata": {
  "kernelspec": {
   "display_name": "Python [conda env:m3_env]",
   "language": "python",
   "name": "conda-env-m3_env-py"
  },
  "language_info": {
   "codemirror_mode": {
    "name": "ipython",
    "version": 3
   },
   "file_extension": ".py",
   "mimetype": "text/x-python",
   "name": "python",
   "nbconvert_exporter": "python",
   "pygments_lexer": "ipython3",
   "version": "3.9.16"
  }
 },
 "nbformat": 4,
 "nbformat_minor": 5
}
