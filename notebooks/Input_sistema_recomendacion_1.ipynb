{
 "cells": [
  {
   "cell_type": "markdown",
   "id": "a9b75e29",
   "metadata": {},
   "source": [
    "## Input sistema de recomendación 1\n"
   ]
  },
  {
   "cell_type": "code",
   "execution_count": 4,
   "id": "14a5c251",
   "metadata": {},
   "outputs": [
    {
     "data": {
      "text/plain": [
       "list"
      ]
     },
     "execution_count": 4,
     "metadata": {},
     "output_type": "execute_result"
    }
   ],
   "source": [
    "\n",
    "import json\n",
    "input_ = []\n",
    "\n",
    "input_.append({\n",
    "    'Provincia': 'Barcelona',\n",
    "    'Name_center': 'Greenwich',\n",
    "    'Religious': 'No',\n",
    "    'Etapa': ['Primaria', 'Secundaria'],\n",
    "    'Temática': ['Familia & Tecnología','Arte & Cultura'],\n",
    "    'Objetivos': 'Ofrecer formación variada',\n",
    "    'Formato':['Presencial','Online'],\n",
    "    'Precios por taller':'Entre 100 y 300'})\n",
    "with open('input_.json', 'w') as json_file:\n",
    "    json.dump(input_, json_file)\n",
    "    \n",
    "type(input_)"
   ]
  },
  {
   "cell_type": "code",
   "execution_count": null,
   "id": "9d0f4d92",
   "metadata": {},
   "outputs": [],
   "source": []
  },
  {
   "cell_type": "markdown",
   "id": "d4184426",
   "metadata": {},
   "source": [
    "## Otras pruebas"
   ]
  },
  {
   "cell_type": "code",
   "execution_count": null,
   "id": "294bea04",
   "metadata": {},
   "outputs": [],
   "source": [
    "\n",
    "#Input para todo\n",
    "''''input_ = {}\n",
    "\n",
    "input_ = []\n",
    "\n",
    "input_.append({\n",
    "    'Provincia': 'Barcelona',\n",
    "    'Name_center': 'Greenwich',\n",
    "    'Religious': 'No',\n",
    "    'Etapa': ['Secundaria', 'Bachillerato'],\n",
    "    'Temática': 'Estudio & Pedagogía',\n",
    "    'Objetivos': 'Ofrecer formación variada',\n",
    "    'Formato':'Presencial',\n",
    "    'Precios por taller':'Entre 100 y 300'})'''\n",
    "\n",
    "\n",
    "'''''input_ = []\n",
    "\n",
    "input_.append({\n",
    "    'Provincia': 'Barcelona',\n",
    "    'Name_center': 'Greenwich',\n",
    "    'Religious': 'No',\n",
    "    'Etapa': 'Todas',\n",
    "    'Temática': ['Familia & Tecnología','Arte & Cultura'],\n",
    "    'Objetivos': 'Ofrecer formación variada',\n",
    "    'Formato':'Online',\n",
    "    'Precios por taller':'Entre 100 y 300'})''''''\n",
    "\n",
    "#Input para probar formato"
   ]
  },
  {
   "cell_type": "code",
   "execution_count": 4,
   "id": "eadc4348",
   "metadata": {},
   "outputs": [
    {
     "ename": "SyntaxError",
     "evalue": "EOF while scanning triple-quoted string literal (945934710.py, line 20)",
     "output_type": "error",
     "traceback": [
      "\u001b[0;36m  Cell \u001b[0;32mIn[4], line 20\u001b[0;36m\u001b[0m\n\u001b[0;31m    type(input_)\u001b[0m\n\u001b[0m                \n^\u001b[0m\n\u001b[0;31mSyntaxError\u001b[0m\u001b[0;31m:\u001b[0m EOF while scanning triple-quoted string literal\n"
     ]
    }
   ],
   "source": [
    "'''''input_ = {}\n",
    "\n",
    "input_ = []\n",
    "\n",
    "input_.append({\n",
    "    'Provincia': 'Madrid',\n",
    "    'Name_center': 'Greenwich',\n",
    "    'Religious': 'No',\n",
    "    'Etapa': ['Todas', 'Primaria', 'Secundaria'],\n",
    "    'Temática': ['Educación & Crecimiento'],\n",
    "    'Objetivos': ['Ofrecer formación variada'],\n",
    "    'Formato':['Presencial', 'Online'],\n",
    "    'Precios por taller':'Entre 100 y 300'})\n",
    "\n",
    "#dEBE DEVOLVER:Familias Inteligentes\n",
    "\n",
    "with open('input_.json', 'w') as json_file:\n",
    "    json.dump(input_, json_file)\n",
    "    \n",
    "type(input_)"
   ]
  },
  {
   "cell_type": "markdown",
   "id": "0e7c1794",
   "metadata": {},
   "source": [
    "## Creación de un input de prueba"
   ]
  },
  {
   "cell_type": "code",
   "execution_count": 2,
   "id": "11f97a42",
   "metadata": {},
   "outputs": [],
   "source": [
    "#Input para probar ciudad\n",
    "\n"
   ]
  },
  {
   "cell_type": "code",
   "execution_count": null,
   "id": "9278b7b3",
   "metadata": {},
   "outputs": [],
   "source": []
  },
  {
   "cell_type": "markdown",
   "id": "174af4f2",
   "metadata": {},
   "source": [
    "## Intento no válido\n",
    "input_ = {}\n",
    "\n",
    "input_ ['queries'] = []\n",
    "\n",
    "input_ ['queries'].append({\n",
    "    'city': 'Madrid',\n",
    "    'name_center': 'Greenwich',\n",
    "    'religious': 'No',\n",
    "    'etapas': ['Infantil, Primaria'],\n",
    "    'tematicas': 'Estudio & Pedagogía',\n",
    "    'objetivos': 'Ofrecer formación variada',\n",
    "    'formato':'Online',\n",
    "    'presupuesto':'Menos de 100'})\n",
    "with open('input_.json', 'w') as json_file:\n",
    "json.dump(input_, json_file)"
   ]
  },
  {
   "cell_type": "code",
   "execution_count": null,
   "id": "3a803954",
   "metadata": {},
   "outputs": [],
   "source": []
  }
 ],
 "metadata": {
  "kernelspec": {
   "display_name": "Python [conda env:m3_env]",
   "language": "python",
   "name": "conda-env-m3_env-py"
  },
  "language_info": {
   "codemirror_mode": {
    "name": "ipython",
    "version": 3
   },
   "file_extension": ".py",
   "mimetype": "text/x-python",
   "name": "python",
   "nbconvert_exporter": "python",
   "pygments_lexer": "ipython3",
   "version": "3.9.16"
  }
 },
 "nbformat": 4,
 "nbformat_minor": 5
}
