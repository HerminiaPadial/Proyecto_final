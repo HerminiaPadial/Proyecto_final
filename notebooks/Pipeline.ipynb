{
 "cells": [
  {
   "cell_type": "markdown",
   "id": "c3e67cd7",
   "metadata": {},
   "source": [
    "# Def objetivo: comprueba los objetivos\n",
    "    # Si es 1,2,3:\n",
    "        # - Def análisis\n",
    "    # Si es 4:\n",
    "        # - Def SR4"
   ]
  },
  {
   "cell_type": "code",
   "execution_count": 2,
   "id": "8130ce85",
   "metadata": {},
   "outputs": [],
   "source": [
    "import json\n",
    "import pandas as pd\n",
    "import numpy as np"
   ]
  },
  {
   "cell_type": "code",
   "execution_count": 7,
   "id": "5cd7becb",
   "metadata": {},
   "outputs": [],
   "source": [
    "def lectura_input():\n",
    "    #Lectura input\n",
    "    path = '/Users/herminiapadialromera/ironhackb/Proyecto_final/notebooks/input_sist_recom_3.json'\n",
    "    pd.set_option('display.max_colwidth', None)\n",
    "    df_input_json = pd.read_json(path)\n",
    "    ---------\n",
    "    columnas_explode = ['Etapa', 'Formato', 'Temática', 'Objetivos'] \n",
    "    df_input_json_merge = df_input_json.explode(['Etapa']).explode(['Formato']).explode(['Objetivos']).explode(['Temática'])\n",
    "    return df_input_json_merge"
   ]
  },
  {
   "cell_type": "code",
   "execution_count": 10,
   "id": "255cb635",
   "metadata": {},
   "outputs": [],
   "source": [
    "lecutra_df  = lectura_input ()\n",
    "#lecutra_df\n"
   ]
  },
  {
   "cell_type": "code",
   "execution_count": null,
   "id": "1d16d066",
   "metadata": {},
   "outputs": [],
   "source": [
    "def analisis:\n",
    "    data_course_df = pd.read_csv('/Users/herminiapadialromera/ironhackb/Proyecto_final/data/Datos_ampliados.csv', sep=\";\", encoding='utf8')\n",
    "    data_course_df = pd.DataFrame(data_course_df)\n",
    "    data_course_df['Tipo de contenido'].fillna('No innovador', inplace= True)\n",
    "    columnas_explode_curso = ['Etapa', 'Formato', 'Temática', 'Objetivos'] \n",
    "    data_course_df = data_course_df.explode(['Etapa']).explode(['Formato']).explode(['Temática'])\n",
    "    df_merge = pd.merge(df_input_json_merge, data_course_df, on=['Provincia', 'Etapa', 'Formato', 'Temática'])\n",
    "    df_merge = df_merge.iloc[:,1:]\n",
    "    return df_merge"
   ]
  },
  {
   "cell_type": "code",
   "execution_count": 11,
   "id": "661b876c",
   "metadata": {},
   "outputs": [
    {
     "ename": "SyntaxError",
     "evalue": "invalid syntax (485119775.py, line 1)",
     "output_type": "error",
     "traceback": [
      "\u001b[0;36m  Cell \u001b[0;32mIn[11], line 1\u001b[0;36m\u001b[0m\n\u001b[0;31m    def sistema_recomendacion_4:\u001b[0m\n\u001b[0m                               ^\u001b[0m\n\u001b[0;31mSyntaxError\u001b[0m\u001b[0;31m:\u001b[0m invalid syntax\n"
     ]
    }
   ],
   "source": [
    "def sistema_recomendacion_4 ():\n",
    "    \n",
    "    def check_educ_creci():\n",
    "        if 'Educación & Crecimiento' in df_input_json['Temática']:\n",
    "            pass\n",
    "        else:\n",
    "            df_input_json['Temática'][0].append('Educación & Crecimiento')\n",
    "        return df_input_json\n",
    "\n",
    "    df_input_json = check_educ_creci()\n",
    "\n",
    "    columnas_explode = ['Etapa', 'Formato', 'Temática', 'Objetivos'] \n",
    "    df_input_json_merge = df_input_json.explode(['Etapa']).explode(['Formato']).explode(['Objetivos']).explode(['Temática'])\n",
    "\n",
    "    data_course_df = pd.read_csv('/Users/herminiapadialromera/ironhackb/Proyecto_final/data/Datos_ampliados.csv', sep=\";\", encoding='utf8')\n",
    "    data_course_df = pd.DataFrame(data_course_df)\n",
    "    data_course_df['Tipo de contenido'].fillna('No innovador', inplace= True)\n",
    "    columnas_explode_curso = ['Etapa', 'Formato', 'Temática', 'Objetivos'] \n",
    "    data_course_df = data_course_df.explode(['Etapa']).explode(['Formato']).explode(['Temática'])\n",
    "\n",
    "    df_merge = pd.merge(df_input_json_merge, data_course_df, on=['Provincia', 'Etapa', 'Formato', 'Temática'])\n",
    "    df_merge = df_merge.iloc[:,1:]\n",
    "\n",
    "    def filtro_edcrecim_tematica (df, sesiones):\n",
    "        tematica_unique_list = df_merge['Temática'].unique()\n",
    "\n",
    "        filtro_crecim_tematica_df = pd.DataFrame()\n",
    "        for tematica in tematica_unique_list:\n",
    "            df_crecim_tematica = df_merge[(df_merge['Nº Sesiones'] <= int(f\"{sesiones}\")) & (df_merge['Temática'] == tematica)]\n",
    "            filtro_crecim_tematica_df = pd.concat([filtro_crecim_tematica_df, df_crecim_tematica.head(1)])\n",
    "\n",
    "        recomendaciones_filtro_crecim_tematica_df = filtro_crecim_tematica_df.drop_duplicates().reset_index(drop=True)\n",
    "\n",
    "        return recomendaciones_filtro_crecim_tematica_df\n",
    "return "
   ]
  },
  {
   "cell_type": "code",
   "execution_count": null,
   "id": "43ef1c6d",
   "metadata": {},
   "outputs": [],
   "source": [
    "def objetivos(lecutura_df):\n",
    "\n",
    "    if ['Ofrecer formación variada','Aumentar la participación de las familias','Sorprender con contenidos innovadores y formatos novedosos'] in lecutra_df['Objetivos']:\n",
    "    else:\n",
    "        def sistema_recomendacion_4\n",
    "        \n",
    "    \n",
    "       \n"
   ]
  },
  {
   "cell_type": "code",
   "execution_count": null,
   "id": "1b084d03",
   "metadata": {},
   "outputs": [],
   "source": []
  }
 ],
 "metadata": {
  "kernelspec": {
   "display_name": "Python [conda env:m3_env]",
   "language": "python",
   "name": "conda-env-m3_env-py"
  },
  "language_info": {
   "codemirror_mode": {
    "name": "ipython",
    "version": 3
   },
   "file_extension": ".py",
   "mimetype": "text/x-python",
   "name": "python",
   "nbconvert_exporter": "python",
   "pygments_lexer": "ipython3",
   "version": "3.9.16"
  }
 },
 "nbformat": 4,
 "nbformat_minor": 5
}
